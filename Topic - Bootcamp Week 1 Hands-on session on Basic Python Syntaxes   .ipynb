{
 "cells": [
  {
   "cell_type": "code",
   "execution_count": 1,
   "id": "0c7a64d7",
   "metadata": {},
   "outputs": [
    {
     "name": "stdout",
     "output_type": "stream",
     "text": [
      "Hello world\n"
     ]
    }
   ],
   "source": [
    "# readymade codes builtin functionalties\n",
    "print (\"Hello world\")"
   ]
  },
  {
   "cell_type": "code",
   "execution_count": 2,
   "id": "5780ee17",
   "metadata": {},
   "outputs": [
    {
     "name": "stdout",
     "output_type": "stream",
     "text": [
      "Did you observe?\n"
     ]
    }
   ],
   "source": [
    "print (\"Did you observe?\")"
   ]
  },
  {
   "cell_type": "code",
   "execution_count": null,
   "id": "a1a1a878",
   "metadata": {},
   "outputs": [],
   "source": [
    "print ( 'this is ok')\n",
    "\n",
    "print (\"this is also okay\")\n",
    "\n",
    "print (\"\"\" This is helps you to write \n",
    "multiple lines\n",
    "code\"\"\"\")"
   ]
  },
  {
   "cell_type": "code",
   "execution_count": null,
   "id": "20dcf475",
   "metadata": {},
   "outputs": [],
   "source": [
    "# common mistakes\n",
    "\n",
    "# comnon mistakes (sins)\n",
    "print('hi')\n",
    "Print('hi')\n",
    "prent('hi')\n",
    "print{'hi'}\n",
    "print('hi)"
   ]
  },
  {
   "cell_type": "code",
   "execution_count": 5,
   "id": "f056ad1a",
   "metadata": {},
   "outputs": [],
   "source": [
    "#Variables\n",
    "\n",
    "name=\"Sam\"\n",
    "age =18\n",
    "height = 5.10\n",
    "isindian = True"
   ]
  },
  {
   "cell_type": "code",
   "execution_count": 6,
   "id": "fdb9439f",
   "metadata": {},
   "outputs": [
    {
     "name": "stdout",
     "output_type": "stream",
     "text": [
      "Sam\n",
      "18\n",
      "5.1\n",
      "True\n"
     ]
    }
   ],
   "source": [
    "print(name)\n",
    "print(age)\n",
    "print(height)\n",
    "print(isindian)"
   ]
  },
  {
   "cell_type": "code",
   "execution_count": 7,
   "id": "b2451e5b",
   "metadata": {},
   "outputs": [
    {
     "name": "stdout",
     "output_type": "stream",
     "text": [
      "Sam 18 5.1 True\n"
     ]
    }
   ],
   "source": [
    "print (name,age,height,isindian)"
   ]
  },
  {
   "cell_type": "code",
   "execution_count": 8,
   "id": "4023cf20",
   "metadata": {},
   "outputs": [
    {
     "name": "stdout",
     "output_type": "stream",
     "text": [
      "Hi! How are you Sam\n"
     ]
    }
   ],
   "source": [
    "print(\"Hi! How are you\",name)"
   ]
  },
  {
   "cell_type": "code",
   "execution_count": 9,
   "id": "37244a34",
   "metadata": {},
   "outputs": [
    {
     "name": "stdout",
     "output_type": "stream",
     "text": [
      "Hi! How are you name\n"
     ]
    }
   ],
   "source": [
    "print (\"Hi! How are you name\")"
   ]
  },
  {
   "cell_type": "code",
   "execution_count": null,
   "id": "8bf5d2c2",
   "metadata": {},
   "outputs": [],
   "source": [
    "# Data Types\n",
    "\n",
    "# String Data : this consist of alphabets, numbers and symbols\n",
    "# eg. \"hi i am string\"\n",
    "#eg. \"hi welcome to 2022\"\n",
    "# eg.\"\"\"\"my passcode is 129445n\"\"\"\"\n",
    "#Rule: any thing inside Quotation is String Data no matter what it contains."
   ]
  },
  {
   "cell_type": "code",
   "execution_count": 12,
   "id": "ec5d7179",
   "metadata": {},
   "outputs": [],
   "source": [
    "# int (integer) data : whole number is int data\n",
    "#eg. 12\n",
    "\n"
   ]
  },
  {
   "cell_type": "code",
   "execution_count": 13,
   "id": "401c0ac9",
   "metadata": {},
   "outputs": [],
   "source": [
    "#float data: decimal values\n",
    "#eg. 5.5"
   ]
  },
  {
   "cell_type": "code",
   "execution_count": 14,
   "id": "11fafa0e",
   "metadata": {},
   "outputs": [],
   "source": [
    "#Bool Data: logical Values\n",
    "#eg. True False"
   ]
  },
  {
   "cell_type": "code",
   "execution_count": null,
   "id": "af458df1",
   "metadata": {},
   "outputs": [],
   "source": [
    "#python provides a built in function called type()\n",
    "#type() function can tell you the datatype of a given variable"
   ]
  },
  {
   "cell_type": "code",
   "execution_count": 15,
   "id": "3893678a",
   "metadata": {},
   "outputs": [
    {
     "data": {
      "text/plain": [
       "str"
      ]
     },
     "execution_count": 15,
     "metadata": {},
     "output_type": "execute_result"
    }
   ],
   "source": [
    "type(name)"
   ]
  },
  {
   "cell_type": "code",
   "execution_count": 16,
   "id": "6d4241da",
   "metadata": {},
   "outputs": [
    {
     "data": {
      "text/plain": [
       "int"
      ]
     },
     "execution_count": 16,
     "metadata": {},
     "output_type": "execute_result"
    }
   ],
   "source": [
    "type(age)"
   ]
  },
  {
   "cell_type": "code",
   "execution_count": 17,
   "id": "2371fa3d",
   "metadata": {},
   "outputs": [
    {
     "data": {
      "text/plain": [
       "float"
      ]
     },
     "execution_count": 17,
     "metadata": {},
     "output_type": "execute_result"
    }
   ],
   "source": [
    "type(height)"
   ]
  },
  {
   "cell_type": "code",
   "execution_count": 18,
   "id": "682028aa",
   "metadata": {},
   "outputs": [
    {
     "data": {
      "text/plain": [
       "bool"
      ]
     },
     "execution_count": 18,
     "metadata": {},
     "output_type": "execute_result"
    }
   ],
   "source": [
    "type(isindian)"
   ]
  },
  {
   "cell_type": "code",
   "execution_count": null,
   "id": "1fca6a0c",
   "metadata": {},
   "outputs": [],
   "source": [
    "# Getting input from user"
   ]
  },
  {
   "cell_type": "code",
   "execution_count": 23,
   "id": "6117e7ec",
   "metadata": {},
   "outputs": [
    {
     "name": "stdout",
     "output_type": "stream",
     "text": [
      "hey! buddy what's your hobby ? coding\n"
     ]
    },
    {
     "data": {
      "text/plain": [
       "'coding'"
      ]
     },
     "execution_count": 23,
     "metadata": {},
     "output_type": "execute_result"
    }
   ],
   "source": [
    "input (\"hey! buddy what's your hobby ? \")"
   ]
  },
  {
   "cell_type": "code",
   "execution_count": 25,
   "id": "f1ba139b",
   "metadata": {},
   "outputs": [
    {
     "name": "stdout",
     "output_type": "stream",
     "text": [
      "hey! buddy whats your hobby ? coding\n"
     ]
    }
   ],
   "source": [
    "hobby = input (\"hey! buddy whats your hobby ? \")"
   ]
  },
  {
   "cell_type": "code",
   "execution_count": 27,
   "id": "14fc691a",
   "metadata": {},
   "outputs": [
    {
     "name": "stdout",
     "output_type": "stream",
     "text": [
      "woah you like coding\n"
     ]
    }
   ],
   "source": [
    "print(\"woah you like\" ,hobby)"
   ]
  },
  {
   "cell_type": "code",
   "execution_count": 30,
   "id": "a71614f5",
   "metadata": {},
   "outputs": [
    {
     "name": "stdout",
     "output_type": "stream",
     "text": [
      "Enter your name? Sam\n",
      " youn are from? Bangalore\n",
      "what's your wish? I want become a Data Scientist\n",
      "Sam\n",
      "Bangalore\n",
      "I want become a Data Scientist\n"
     ]
    }
   ],
   "source": [
    "name = input(\"Enter your name? \")\n",
    "city = input(\" youn are from? \")\n",
    "wish = input(\"what's your wish? \")\n",
    "\n",
    "print(name)\n",
    "print(city)\n",
    "print(wish)"
   ]
  },
  {
   "cell_type": "code",
   "execution_count": 31,
   "id": "a49d1839",
   "metadata": {},
   "outputs": [],
   "source": [
    "# please try to predict the output of the code below"
   ]
  },
  {
   "cell_type": "code",
   "execution_count": 35,
   "id": "7b15615e",
   "metadata": {},
   "outputs": [
    {
     "name": "stdout",
     "output_type": "stream",
     "text": [
      "how old are you ?21\n",
      "<class 'str'>\n"
     ]
    }
   ],
   "source": [
    "age= input (\"how old are you ?\")\n",
    "print( type (age))"
   ]
  },
  {
   "cell_type": "code",
   "execution_count": 36,
   "id": "79fc072f",
   "metadata": {},
   "outputs": [],
   "source": [
    "# Answer :str"
   ]
  },
  {
   "cell_type": "code",
   "execution_count": null,
   "id": "b283c531",
   "metadata": {},
   "outputs": [],
   "source": [
    "# Rule: Any Data. or Input Taken using input () Function\n",
    "# is always returns in String Type\n",
    "# From the Holy Book of Python"
   ]
  },
  {
   "cell_type": "code",
   "execution_count": 37,
   "id": "724d0b57",
   "metadata": {},
   "outputs": [],
   "source": [
    "#what is the problem if the age is of String Type ?\n",
    "#ANSWER: WE CANNOT DO MATH"
   ]
  },
  {
   "cell_type": "code",
   "execution_count": 38,
   "id": "bc689a5d",
   "metadata": {},
   "outputs": [
    {
     "data": {
      "text/plain": [
       "'21'"
      ]
     },
     "execution_count": 38,
     "metadata": {},
     "output_type": "execute_result"
    }
   ],
   "source": [
    "age"
   ]
  },
  {
   "cell_type": "code",
   "execution_count": 39,
   "id": "814662e1",
   "metadata": {},
   "outputs": [
    {
     "ename": "TypeError",
     "evalue": "can only concatenate str (not \"int\") to str",
     "output_type": "error",
     "traceback": [
      "\u001b[1;31m---------------------------------------------------------------------------\u001b[0m",
      "\u001b[1;31mTypeError\u001b[0m                                 Traceback (most recent call last)",
      "\u001b[1;32m~\\AppData\\Local\\Temp/ipykernel_1576/352932136.py\u001b[0m in \u001b[0;36m<module>\u001b[1;34m\u001b[0m\n\u001b[1;32m----> 1\u001b[1;33m \u001b[0mage\u001b[0m\u001b[1;33m+\u001b[0m\u001b[1;36m2\u001b[0m\u001b[1;33m\u001b[0m\u001b[1;33m\u001b[0m\u001b[0m\n\u001b[0m",
      "\u001b[1;31mTypeError\u001b[0m: can only concatenate str (not \"int\") to str"
     ]
    }
   ],
   "source": [
    "age+2"
   ]
  },
  {
   "cell_type": "code",
   "execution_count": 40,
   "id": "fad406eb",
   "metadata": {},
   "outputs": [],
   "source": [
    "# in order to do arithmetic operations we need to convert\n",
    "#the datatype of age variab le from String- Integer\n",
    "# datatype conversion is technica lly called Typecasting.\n"
   ]
  },
  {
   "cell_type": "code",
   "execution_count": 41,
   "id": "3d8f7104",
   "metadata": {},
   "outputs": [],
   "source": [
    "# int() to the resuce helps convert string to int."
   ]
  },
  {
   "cell_type": "code",
   "execution_count": 43,
   "id": "9841fe1c",
   "metadata": {},
   "outputs": [
    {
     "name": "stdout",
     "output_type": "stream",
     "text": [
      "enter your age21\n",
      "<class 'int'>\n"
     ]
    }
   ],
   "source": [
    "age= int(input (\"enter your age\"))\n",
    "print( type (age))"
   ]
  },
  {
   "cell_type": "code",
   "execution_count": 52,
   "id": "cb9afe26",
   "metadata": {},
   "outputs": [
    {
     "name": "stdout",
     "output_type": "stream",
     "text": [
      "enter your weight 62.5\n"
     ]
    }
   ],
   "source": [
    "age = float(input(\"enter your weight \"))"
   ]
  },
  {
   "cell_type": "code",
   "execution_count": null,
   "id": "7704cfd5",
   "metadata": {},
   "outputs": [],
   "source": [
    "#coode always executes right to left pattern"
   ]
  },
  {
   "cell_type": "code",
   "execution_count": 53,
   "id": "bf62913b",
   "metadata": {},
   "outputs": [],
   "source": [
    "# Decision Making in Python Programming"
   ]
  },
  {
   "cell_type": "code",
   "execution_count": 54,
   "id": "5fcfc33a",
   "metadata": {},
   "outputs": [],
   "source": [
    "# Indentation: used for rep resenting nesting"
   ]
  },
  {
   "cell_type": "code",
   "execution_count": 56,
   "id": "90552772",
   "metadata": {},
   "outputs": [],
   "source": [
    "#garden:\n",
    "       #trees:\n",
    "            #fruits:\n",
    "                #seeds:\n",
    "\n"
   ]
  },
  {
   "cell_type": "code",
   "execution_count": 57,
   "id": "8f38c067",
   "metadata": {},
   "outputs": [],
   "source": [
    "# Decision Making if -else"
   ]
  },
  {
   "cell_type": "code",
   "execution_count": 59,
   "id": "d9a2c52d",
   "metadata": {},
   "outputs": [
    {
     "name": "stdout",
     "output_type": "stream",
     "text": [
      "wohoo! its my birthaday\n",
      "i am bee i am beyond conditions\n"
     ]
    }
   ],
   "source": [
    "age = 21\n",
    "if age >=18:\n",
    "    print (\"wohoo! its my birthaday\")\n",
    "    \n",
    "else:\n",
    "    print(\"boo! i still waiting\")\n",
    "\n",
    "print (\"i am bee i am beyond conditions\")"
   ]
  },
  {
   "cell_type": "code",
   "execution_count": 60,
   "id": "2bab6061",
   "metadata": {},
   "outputs": [
    {
     "name": "stdout",
     "output_type": "stream",
     "text": [
      "boo! i still waiting\n",
      "i am bee i am beyond conditions\n"
     ]
    }
   ],
   "source": [
    "age = 13\n",
    "if age >=18:\n",
    "    print (\"wohoo! its my birthaday\")\n",
    "    \n",
    "else:\n",
    "    print(\"boo! i still waiting\")\n",
    "\n",
    "print (\"i am bee i am beyond conditions\")"
   ]
  },
  {
   "cell_type": "code",
   "execution_count": null,
   "id": "e5e194d5",
   "metadata": {},
   "outputs": [],
   "source": [
    "# multiple conditions in python"
   ]
  },
  {
   "cell_type": "code",
   "execution_count": 61,
   "id": "e08b0108",
   "metadata": {},
   "outputs": [
    {
     "name": "stdout",
     "output_type": "stream",
     "text": [
      "No Rank\n"
     ]
    }
   ],
   "source": [
    "rank = 7\n",
    "\n",
    "if rank==1:\n",
    "    print(\"First Rank\")\n",
    "\n",
    "elif rank==2:\n",
    "    print(\"Second Rank\")\n",
    "\n",
    "elif rank==3:\n",
    "    print(\"Third Rank\")\n",
    "    \n",
    "else:\n",
    "    print(\"No Rank\")"
   ]
  },
  {
   "cell_type": "code",
   "execution_count": 63,
   "id": "64a4b966",
   "metadata": {},
   "outputs": [
    {
     "name": "stdout",
     "output_type": "stream",
     "text": [
      "Negative\n"
     ]
    }
   ],
   "source": [
    "N =-7\n",
    "\n",
    "if N>0:\n",
    "    print(\"Positive\")\n",
    "    \n",
    "elif N==0:\n",
    "    print(\"Neutral\")\n",
    "    \n",
    "else:\n",
    "    print(\"Negative\")"
   ]
  },
  {
   "cell_type": "code",
   "execution_count": null,
   "id": "09359f20",
   "metadata": {},
   "outputs": [],
   "source": [
    "difference in = and\n",
    "= is assignment operator\n",
    "eg.\n",
    "a=5\n",
    "means 5 is assigned to a\n",
    "== is comparision operator and returns boolean Response (used for checking)\n",
    "a==5 (means if value in a variable matches with 5, the response may be\n",
    "True or False depending on what is contained in a variab le. )b"
   ]
  },
  {
   "cell_type": "code",
   "execution_count": 66,
   "id": "5555ed83",
   "metadata": {},
   "outputs": [
    {
     "name": "stdout",
     "output_type": "stream",
     "text": [
      "NRI aren't allowed\n"
     ]
    }
   ],
   "source": [
    "nationality =\"america\"\n",
    "age=18\n",
    "if nationality==\"indian\":\n",
    "    if age >=18:\n",
    "        print(\"Valid for voting\")\n",
    "else:\n",
    "    print(\"NRI aren't allowed\")\n",
    "    "
   ]
  },
  {
   "cell_type": "code",
   "execution_count": 69,
   "id": "f20478a3",
   "metadata": {},
   "outputs": [
    {
     "name": "stdout",
     "output_type": "stream",
     "text": [
      "Profit\n"
     ]
    }
   ],
   "source": [
    "cp=4\n",
    "sp=12\n",
    "\n",
    "if cp==sp:\n",
    "    print('No loss no profit')\n",
    "    \n",
    "elif sp>cp:\n",
    "    print('Profit')\n",
    "    \n",
    "else:\n",
    "    print('Loss')"
   ]
  },
  {
   "cell_type": "code",
   "execution_count": 74,
   "id": "dc89fd47",
   "metadata": {},
   "outputs": [
    {
     "name": "stdout",
     "output_type": "stream",
     "text": [
      "input signal colourRed\n",
      "Dont Cross the road\n"
     ]
    }
   ],
   "source": [
    "signal = input(\"input signal colour\")\n",
    "\n",
    "if signal == \"green\":\n",
    "    print(\"Go\")\n",
    "\n",
    "elif signal ==\"Orange\":\n",
    "    print(\"Watch before you go\")\n",
    "\n",
    "elif signal == \"Red\":\n",
    "        print(\"Dont Cross the road\")\n",
    "\n",
    "else:\n",
    "    print(\"Invalid signal colour\")"
   ]
  }
 ],
 "metadata": {
  "kernelspec": {
   "display_name": "Python 3 (ipykernel)",
   "language": "python",
   "name": "python3"
  },
  "language_info": {
   "codemirror_mode": {
    "name": "ipython",
    "version": 3
   },
   "file_extension": ".py",
   "mimetype": "text/x-python",
   "name": "python",
   "nbconvert_exporter": "python",
   "pygments_lexer": "ipython3",
   "version": "3.9.7"
  }
 },
 "nbformat": 4,
 "nbformat_minor": 5
}
